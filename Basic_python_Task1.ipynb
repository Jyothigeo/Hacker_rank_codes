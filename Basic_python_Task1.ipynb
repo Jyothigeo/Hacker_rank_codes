{
 "cells": [
  {
   "cell_type": "markdown",
   "id": "1143105b",
   "metadata": {},
   "source": [
    "# 1.Say \"Hello, World!\" With Python"
   ]
  },
  {
   "cell_type": "code",
   "execution_count": 2,
   "id": "d804e425",
   "metadata": {},
   "outputs": [
    {
     "name": "stdout",
     "output_type": "stream",
     "text": [
      "Hello, World!\n"
     ]
    }
   ],
   "source": [
    "print(\"Hello, World!\")"
   ]
  },
  {
   "cell_type": "markdown",
   "id": "56e90287",
   "metadata": {},
   "source": [
    "# 2.Python If-else"
   ]
  },
  {
   "cell_type": "code",
   "execution_count": 19,
   "id": "c9bbea5b",
   "metadata": {},
   "outputs": [
    {
     "name": "stdout",
     "output_type": "stream",
     "text": [
      "18\n",
      "Weird\n"
     ]
    }
   ],
   "source": [
    "n = int(input().strip())\n",
    "if n % 2 != 0:\n",
    "        print(\"Weird\")\n",
    "elif n in range(2,6):\n",
    "        print(\"Not Weird\")\n",
    "elif n in range(6,21):\n",
    "        print(\"Weird\")\n",
    "elif n > 20:\n",
    "        print(\"Not Weird\")"
   ]
  },
  {
   "cell_type": "markdown",
   "id": "844c77c1",
   "metadata": {},
   "source": [
    "# 3.Arithmetic operators"
   ]
  },
  {
   "cell_type": "code",
   "execution_count": 22,
   "id": "2870f2f7",
   "metadata": {},
   "outputs": [
    {
     "name": "stdout",
     "output_type": "stream",
     "text": [
      "2\n",
      "3\n",
      "5\n",
      "-1\n",
      "6\n"
     ]
    }
   ],
   "source": [
    "a = int(input())\n",
    "b = int(input())\n",
    "print(a+b)\n",
    "print(a-b)\n",
    "print(a*b)"
   ]
  },
  {
   "cell_type": "markdown",
   "id": "204104bc",
   "metadata": {},
   "source": [
    "# 4.Python division"
   ]
  },
  {
   "cell_type": "code",
   "execution_count": 24,
   "id": "98ac785c",
   "metadata": {},
   "outputs": [
    {
     "name": "stdout",
     "output_type": "stream",
     "text": [
      "4\n",
      "5\n",
      "0\n",
      "0.8\n"
     ]
    }
   ],
   "source": [
    "a=int(input())\n",
    "b=int(input())\n",
    "print(a//b)\n",
    "print(a/b)"
   ]
  },
  {
   "cell_type": "markdown",
   "id": "23284639",
   "metadata": {},
   "source": [
    "# 5.Loops"
   ]
  },
  {
   "cell_type": "code",
   "execution_count": 28,
   "id": "1b72eba7",
   "metadata": {},
   "outputs": [
    {
     "name": "stdout",
     "output_type": "stream",
     "text": [
      "4\n",
      "0\n",
      "1\n",
      "4\n",
      "9\n"
     ]
    }
   ],
   "source": [
    "n = int(input())\n",
    "for i in range(n):\n",
    "    print(i*i)\n"
   ]
  },
  {
   "cell_type": "markdown",
   "id": "5c281de9",
   "metadata": {},
   "source": [
    "# 6 Write a function for leap year"
   ]
  },
  {
   "cell_type": "code",
   "execution_count": 59,
   "id": "79d1e4c9",
   "metadata": {},
   "outputs": [
    {
     "name": "stdout",
     "output_type": "stream",
     "text": [
      "Enter the number: 1800\n",
      "False\n"
     ]
    }
   ],
   "source": [
    "def CheckLeap(Year):  \n",
    "   \n",
    "  if((Year % 400 == 0) or  \n",
    "     (Year % 100 != 0) and  \n",
    "     (Year % 4 == 0)):   \n",
    "    print(\"True\");  \n",
    "  \n",
    "  else:  \n",
    "    print (\"False\")  \n",
    "\n",
    "Year = int(input(\"Enter the number: \"))  \n",
    "# Printing result  \n",
    "CheckLeap(Year)"
   ]
  },
  {
   "cell_type": "markdown",
   "id": "1638c7f3",
   "metadata": {},
   "source": [
    "# 7 Print function"
   ]
  },
  {
   "cell_type": "code",
   "execution_count": 61,
   "id": "f99e2bd7",
   "metadata": {},
   "outputs": [
    {
     "name": "stdout",
     "output_type": "stream",
     "text": [
      "2\n",
      "12"
     ]
    }
   ],
   "source": [
    "n = int(input())\n",
    "for i in range(0,n):\n",
    "         print(i+1,end=\"\")"
   ]
  },
  {
   "cell_type": "code",
   "execution_count": null,
   "id": "7f0b9abd",
   "metadata": {},
   "outputs": [],
   "source": []
  }
 ],
 "metadata": {
  "kernelspec": {
   "display_name": "Python 3 (ipykernel)",
   "language": "python",
   "name": "python3"
  },
  "language_info": {
   "codemirror_mode": {
    "name": "ipython",
    "version": 3
   },
   "file_extension": ".py",
   "mimetype": "text/x-python",
   "name": "python",
   "nbconvert_exporter": "python",
   "pygments_lexer": "ipython3",
   "version": "3.8.13"
  }
 },
 "nbformat": 4,
 "nbformat_minor": 5
}
