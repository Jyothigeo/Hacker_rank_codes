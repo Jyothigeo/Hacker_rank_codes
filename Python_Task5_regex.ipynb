{
 "cells": [
  {
   "cell_type": "code",
   "execution_count": 1,
   "id": "826ece44",
   "metadata": {},
   "outputs": [],
   "source": [
    "# Detect floating point number"
   ]
  },
  {
   "cell_type": "code",
   "execution_count": 2,
   "id": "d3edf01b",
   "metadata": {},
   "outputs": [
    {
     "ename": "KeyboardInterrupt",
     "evalue": "Interrupted by user",
     "output_type": "error",
     "traceback": [
      "\u001b[1;31m---------------------------------------------------------------------------\u001b[0m",
      "\u001b[1;31mKeyboardInterrupt\u001b[0m                         Traceback (most recent call last)",
      "Input \u001b[1;32mIn [2]\u001b[0m, in \u001b[0;36m<cell line: 19>\u001b[1;34m()\u001b[0m\n\u001b[0;32m     16\u001b[0m     \u001b[38;5;28mprint\u001b[39m(\u001b[38;5;124m'\u001b[39m\u001b[38;5;130;01m\\n\u001b[39;00m\u001b[38;5;124m'\u001b[39m\u001b[38;5;241m.\u001b[39mjoin(l))\n\u001b[0;32m     19\u001b[0m \u001b[38;5;28;01mif\u001b[39;00m \u001b[38;5;18m__name__\u001b[39m \u001b[38;5;241m==\u001b[39m \u001b[38;5;124m'\u001b[39m\u001b[38;5;124m__main__\u001b[39m\u001b[38;5;124m'\u001b[39m:\n\u001b[1;32m---> 20\u001b[0m     \u001b[43mmain\u001b[49m\u001b[43m(\u001b[49m\u001b[43m)\u001b[49m\n",
      "Input \u001b[1;32mIn [2]\u001b[0m, in \u001b[0;36mmain\u001b[1;34m()\u001b[0m\n\u001b[0;32m      1\u001b[0m \u001b[38;5;28;01mdef\u001b[39;00m \u001b[38;5;21mmain\u001b[39m():\n\u001b[0;32m      2\u001b[0m     l \u001b[38;5;241m=\u001b[39m []\n\u001b[1;32m----> 3\u001b[0m     integer \u001b[38;5;241m=\u001b[39m \u001b[38;5;28mint\u001b[39m(\u001b[38;5;28;43minput\u001b[39;49m\u001b[43m(\u001b[49m\u001b[43m)\u001b[49m)\n\u001b[0;32m      4\u001b[0m     \u001b[38;5;28;01mfor\u001b[39;00m i \u001b[38;5;129;01min\u001b[39;00m \u001b[38;5;28mrange\u001b[39m(integer):\n\u001b[0;32m      5\u001b[0m         n \u001b[38;5;241m=\u001b[39m \u001b[38;5;28minput\u001b[39m()\n",
      "File \u001b[1;32m~\\anaconda3\\envs\\Python_JP\\lib\\site-packages\\ipykernel\\kernelbase.py:1075\u001b[0m, in \u001b[0;36mKernel.raw_input\u001b[1;34m(self, prompt)\u001b[0m\n\u001b[0;32m   1071\u001b[0m \u001b[38;5;28;01mif\u001b[39;00m \u001b[38;5;129;01mnot\u001b[39;00m \u001b[38;5;28mself\u001b[39m\u001b[38;5;241m.\u001b[39m_allow_stdin:\n\u001b[0;32m   1072\u001b[0m     \u001b[38;5;28;01mraise\u001b[39;00m StdinNotImplementedError(\n\u001b[0;32m   1073\u001b[0m         \u001b[38;5;124m\"\u001b[39m\u001b[38;5;124mraw_input was called, but this frontend does not support input requests.\u001b[39m\u001b[38;5;124m\"\u001b[39m\n\u001b[0;32m   1074\u001b[0m     )\n\u001b[1;32m-> 1075\u001b[0m \u001b[38;5;28;01mreturn\u001b[39;00m \u001b[38;5;28;43mself\u001b[39;49m\u001b[38;5;241;43m.\u001b[39;49m\u001b[43m_input_request\u001b[49m\u001b[43m(\u001b[49m\n\u001b[0;32m   1076\u001b[0m \u001b[43m    \u001b[49m\u001b[38;5;28;43mstr\u001b[39;49m\u001b[43m(\u001b[49m\u001b[43mprompt\u001b[49m\u001b[43m)\u001b[49m\u001b[43m,\u001b[49m\n\u001b[0;32m   1077\u001b[0m \u001b[43m    \u001b[49m\u001b[38;5;28;43mself\u001b[39;49m\u001b[38;5;241;43m.\u001b[39;49m\u001b[43m_parent_ident\u001b[49m\u001b[43m[\u001b[49m\u001b[38;5;124;43m\"\u001b[39;49m\u001b[38;5;124;43mshell\u001b[39;49m\u001b[38;5;124;43m\"\u001b[39;49m\u001b[43m]\u001b[49m\u001b[43m,\u001b[49m\n\u001b[0;32m   1078\u001b[0m \u001b[43m    \u001b[49m\u001b[38;5;28;43mself\u001b[39;49m\u001b[38;5;241;43m.\u001b[39;49m\u001b[43mget_parent\u001b[49m\u001b[43m(\u001b[49m\u001b[38;5;124;43m\"\u001b[39;49m\u001b[38;5;124;43mshell\u001b[39;49m\u001b[38;5;124;43m\"\u001b[39;49m\u001b[43m)\u001b[49m\u001b[43m,\u001b[49m\n\u001b[0;32m   1079\u001b[0m \u001b[43m    \u001b[49m\u001b[43mpassword\u001b[49m\u001b[38;5;241;43m=\u001b[39;49m\u001b[38;5;28;43;01mFalse\u001b[39;49;00m\u001b[43m,\u001b[49m\n\u001b[0;32m   1080\u001b[0m \u001b[43m\u001b[49m\u001b[43m)\u001b[49m\n",
      "File \u001b[1;32m~\\anaconda3\\envs\\Python_JP\\lib\\site-packages\\ipykernel\\kernelbase.py:1120\u001b[0m, in \u001b[0;36mKernel._input_request\u001b[1;34m(self, prompt, ident, parent, password)\u001b[0m\n\u001b[0;32m   1117\u001b[0m             \u001b[38;5;28;01mbreak\u001b[39;00m\n\u001b[0;32m   1118\u001b[0m \u001b[38;5;28;01mexcept\u001b[39;00m \u001b[38;5;167;01mKeyboardInterrupt\u001b[39;00m:\n\u001b[0;32m   1119\u001b[0m     \u001b[38;5;66;03m# re-raise KeyboardInterrupt, to truncate traceback\u001b[39;00m\n\u001b[1;32m-> 1120\u001b[0m     \u001b[38;5;28;01mraise\u001b[39;00m \u001b[38;5;167;01mKeyboardInterrupt\u001b[39;00m(\u001b[38;5;124m\"\u001b[39m\u001b[38;5;124mInterrupted by user\u001b[39m\u001b[38;5;124m\"\u001b[39m) \u001b[38;5;28;01mfrom\u001b[39;00m \u001b[38;5;28mNone\u001b[39m\n\u001b[0;32m   1121\u001b[0m \u001b[38;5;28;01mexcept\u001b[39;00m \u001b[38;5;167;01mException\u001b[39;00m:\n\u001b[0;32m   1122\u001b[0m     \u001b[38;5;28mself\u001b[39m\u001b[38;5;241m.\u001b[39mlog\u001b[38;5;241m.\u001b[39mwarning(\u001b[38;5;124m\"\u001b[39m\u001b[38;5;124mInvalid Message:\u001b[39m\u001b[38;5;124m\"\u001b[39m, exc_info\u001b[38;5;241m=\u001b[39m\u001b[38;5;28;01mTrue\u001b[39;00m)\n",
      "\u001b[1;31mKeyboardInterrupt\u001b[0m: Interrupted by user"
     ]
    }
   ],
   "source": [
    "def main():\n",
    "    l = []\n",
    "    integer = int(input())\n",
    "    for i in range(integer):\n",
    "        n = input()\n",
    "        if n == 0:\n",
    "            l.append('False')\n",
    "        else:\n",
    "            try:\n",
    "                if float(n) and n != 0:\n",
    "                    l.append('True')\n",
    "                else:\n",
    "                    l.append('False')\n",
    "            except:\n",
    "                l.append('False')\n",
    "    print('\\n'.join(l))\n",
    "\n",
    "\n",
    "if __name__ == '__main__':\n",
    "    main()"
   ]
  },
  {
   "cell_type": "code",
   "execution_count": null,
   "id": "76cefe42",
   "metadata": {},
   "outputs": [],
   "source": [
    "# re.split()"
   ]
  },
  {
   "cell_type": "code",
   "execution_count": null,
   "id": "7a8852ca",
   "metadata": {},
   "outputs": [],
   "source": [
    "import re\n",
    "m = re.search(r\"([a-z0-9])\\1{1,}\", input())\n",
    "if m:\n",
    "    print(m.group(1))\n",
    "else:\n",
    "    print(-1)"
   ]
  },
  {
   "cell_type": "code",
   "execution_count": null,
   "id": "4f4eba83",
   "metadata": {},
   "outputs": [],
   "source": [
    "# re.findall()"
   ]
  },
  {
   "cell_type": "code",
   "execution_count": null,
   "id": "c052984b",
   "metadata": {},
   "outputs": [],
   "source": [
    "import re\n",
    "text = r'[aeiouAEIOU^]?[aeiouAEIOU]{2,}[^aeiouAEIOU$]'\n",
    "value = re.findall(text,input())\n",
    "if value:\n",
    "    [print(i[:-1]) for i in value]\n",
    "else:\n",
    "    print(-1)"
   ]
  },
  {
   "cell_type": "code",
   "execution_count": null,
   "id": "31285a21",
   "metadata": {},
   "outputs": [],
   "source": [
    "# re.start()and re.end()"
   ]
  },
  {
   "cell_type": "code",
   "execution_count": null,
   "id": "972650cb",
   "metadata": {},
   "outputs": [],
   "source": [
    "import re\n",
    "s,k = input(),input()\n",
    "patter = re.compile(k)\n",
    "m=patter.search(s)\n",
    "\n",
    "if not m:\n",
    "        print((-1,-1))  \n",
    "while m:\n",
    "    print((m.start(),m.end()-1))\n",
    "    m=patter.search(s,m.start()+1)"
   ]
  },
  {
   "cell_type": "code",
   "execution_count": null,
   "id": "147a49d4",
   "metadata": {},
   "outputs": [],
   "source": [
    "# re.substitution"
   ]
  },
  {
   "cell_type": "code",
   "execution_count": null,
   "id": "adffe62c",
   "metadata": {},
   "outputs": [],
   "source": [
    "import re\n",
    "\n",
    "repl = lambda x: x.group().replace('&&', 'and').replace('||', 'or')\n",
    "for _ in range(int(input())):\n",
    "    print(re.sub(r'(?<= )\\&\\& |(?<= )\\|\\| ', repl, input()))"
   ]
  },
  {
   "cell_type": "code",
   "execution_count": null,
   "id": "27d5c84d",
   "metadata": {},
   "outputs": [],
   "source": [
    "# Validating Roman numbers"
   ]
  },
  {
   "cell_type": "code",
   "execution_count": null,
   "id": "5548386b",
   "metadata": {},
   "outputs": [],
   "source": [
    "regex_pattern = r\"\"\t# Do not delete 'r'.\n",
    "regex_pattern = r'^(M{0,3})(CM|CD|D?C{0,3})(XC|XL|L?X{0,3})(IX|IV|V?I{0,3})$'\n",
    "import re\n",
    "print(str(bool(re.match(regex_pattern, input()))))"
   ]
  },
  {
   "cell_type": "code",
   "execution_count": null,
   "id": "171a47a5",
   "metadata": {},
   "outputs": [],
   "source": [
    "# Validating phone number"
   ]
  },
  {
   "cell_type": "code",
   "execution_count": null,
   "id": "b6715eae",
   "metadata": {},
   "outputs": [],
   "source": [
    "import re\n",
    "mobile_number = []\n",
    "for _ in range(0,int(input())):\n",
    "    mobile_number.append(input())\n",
    "for i in mobile_number:\n",
    "    if len(i)==10:\n",
    "        if re.search('[789][0-9]{9}',i):\n",
    "            print(\"YES\")\n",
    "        else:\n",
    "            print(\"NO\")\n",
    "    else:\n",
    "            print(\"NO\")"
   ]
  },
  {
   "cell_type": "code",
   "execution_count": null,
   "id": "03b35301",
   "metadata": {},
   "outputs": [],
   "source": [
    "# # Validating and Parsing email address"
   ]
  },
  {
   "cell_type": "code",
   "execution_count": null,
   "id": "5d97334e",
   "metadata": {},
   "outputs": [],
   "source": [
    "import email.utils\n",
    "import re\n",
    "\n",
    "for _ in range(int(input())):\n",
    "    parser = email.utils.parseaddr(input())\n",
    "    email_pattern = r\"^[a-z][\\w\\-.]*@[a-z]+\\.[a-z]{1,3}$\"\n",
    "    match = re.search(email_pattern, parser[1], re.I)\n",
    "    if match:\n",
    "        print(email.utils.formataddr(parser)"
   ]
  },
  {
   "cell_type": "code",
   "execution_count": null,
   "id": "94032db8",
   "metadata": {},
   "outputs": [],
   "source": [
    "# Hex color code"
   ]
  },
  {
   "cell_type": "code",
   "execution_count": null,
   "id": "ab7e871f",
   "metadata": {},
   "outputs": [],
   "source": [
    "import re\n",
    "\n",
    "pattern = re.compile(r'#([0-9a-fA-F]{1,2}){3}')\n",
    "\n",
    "res = []\n",
    "for _ in range(int(input())):\n",
    "    s = input()\n",
    "    if s.endswith(';'):\n",
    "        res += [m.group(0) for m in re.finditer(pattern, s)]\n",
    "print(*res, sep='\\n')"
   ]
  },
  {
   "cell_type": "code",
   "execution_count": null,
   "id": "f6c8bc29",
   "metadata": {},
   "outputs": [],
   "source": [
    "# Validating UID"
   ]
  },
  {
   "cell_type": "code",
   "execution_count": 3,
   "id": "be1e33ff",
   "metadata": {},
   "outputs": [
    {
     "ename": "SyntaxError",
     "evalue": "invalid syntax (3373770818.py, line 1)",
     "output_type": "error",
     "traceback": [
      "\u001b[1;36m  Input \u001b[1;32mIn [3]\u001b[1;36m\u001b[0m\n\u001b[1;33m    mport re\u001b[0m\n\u001b[1;37m          ^\u001b[0m\n\u001b[1;31mSyntaxError\u001b[0m\u001b[1;31m:\u001b[0m invalid syntax\n"
     ]
    }
   ],
   "source": [
    "mport re\n",
    "\n",
    "def is_valid_uid(uid):\n",
    "    return all([\n",
    "        re.search(r'[A-Z].*[A-Z]', uid),\n",
    "        re.search(r'\\d.*\\d.*\\d', uid),\n",
    "        not re.search(r'\\W', uid),\n",
    "        len(set(uid)) == 10,\n",
    "        len(uid) == 10\n",
    "    ])\n",
    "\n",
    "t = int(input().strip())\n",
    "\n",
    "for i in range(t):\n",
    "    uid = input().strip()\n",
    "    if is_valid_uid(uid):\n",
    "        print(\"Valid\")\n",
    "    else:\n",
    "        print(\"Invalid\")"
   ]
  },
  {
   "cell_type": "code",
   "execution_count": 4,
   "id": "18f97958",
   "metadata": {},
   "outputs": [],
   "source": [
    "# Validating Credit card numbers"
   ]
  },
  {
   "cell_type": "code",
   "execution_count": 5,
   "id": "d920b93d",
   "metadata": {},
   "outputs": [
    {
     "ename": "KeyboardInterrupt",
     "evalue": "Interrupted by user",
     "output_type": "error",
     "traceback": [
      "\u001b[1;31m---------------------------------------------------------------------------\u001b[0m",
      "\u001b[1;31mKeyboardInterrupt\u001b[0m                         Traceback (most recent call last)",
      "Input \u001b[1;32mIn [5]\u001b[0m, in \u001b[0;36m<cell line: 3>\u001b[1;34m()\u001b[0m\n\u001b[0;32m      1\u001b[0m \u001b[38;5;28;01mimport\u001b[39;00m \u001b[38;5;21;01mre\u001b[39;00m\n\u001b[1;32m----> 3\u001b[0m n \u001b[38;5;241m=\u001b[39m \u001b[38;5;28mint\u001b[39m(\u001b[38;5;28;43minput\u001b[39;49m\u001b[43m(\u001b[49m\u001b[43m)\u001b[49m\u001b[38;5;241m.\u001b[39mstrip())\n\u001b[0;32m      5\u001b[0m \u001b[38;5;28;01mfor\u001b[39;00m i \u001b[38;5;129;01min\u001b[39;00m \u001b[38;5;28mrange\u001b[39m(n):\n\u001b[0;32m      6\u001b[0m     cc_number \u001b[38;5;241m=\u001b[39m \u001b[38;5;28minput\u001b[39m()\u001b[38;5;241m.\u001b[39mstrip()\n",
      "File \u001b[1;32m~\\anaconda3\\envs\\Python_JP\\lib\\site-packages\\ipykernel\\kernelbase.py:1075\u001b[0m, in \u001b[0;36mKernel.raw_input\u001b[1;34m(self, prompt)\u001b[0m\n\u001b[0;32m   1071\u001b[0m \u001b[38;5;28;01mif\u001b[39;00m \u001b[38;5;129;01mnot\u001b[39;00m \u001b[38;5;28mself\u001b[39m\u001b[38;5;241m.\u001b[39m_allow_stdin:\n\u001b[0;32m   1072\u001b[0m     \u001b[38;5;28;01mraise\u001b[39;00m StdinNotImplementedError(\n\u001b[0;32m   1073\u001b[0m         \u001b[38;5;124m\"\u001b[39m\u001b[38;5;124mraw_input was called, but this frontend does not support input requests.\u001b[39m\u001b[38;5;124m\"\u001b[39m\n\u001b[0;32m   1074\u001b[0m     )\n\u001b[1;32m-> 1075\u001b[0m \u001b[38;5;28;01mreturn\u001b[39;00m \u001b[38;5;28;43mself\u001b[39;49m\u001b[38;5;241;43m.\u001b[39;49m\u001b[43m_input_request\u001b[49m\u001b[43m(\u001b[49m\n\u001b[0;32m   1076\u001b[0m \u001b[43m    \u001b[49m\u001b[38;5;28;43mstr\u001b[39;49m\u001b[43m(\u001b[49m\u001b[43mprompt\u001b[49m\u001b[43m)\u001b[49m\u001b[43m,\u001b[49m\n\u001b[0;32m   1077\u001b[0m \u001b[43m    \u001b[49m\u001b[38;5;28;43mself\u001b[39;49m\u001b[38;5;241;43m.\u001b[39;49m\u001b[43m_parent_ident\u001b[49m\u001b[43m[\u001b[49m\u001b[38;5;124;43m\"\u001b[39;49m\u001b[38;5;124;43mshell\u001b[39;49m\u001b[38;5;124;43m\"\u001b[39;49m\u001b[43m]\u001b[49m\u001b[43m,\u001b[49m\n\u001b[0;32m   1078\u001b[0m \u001b[43m    \u001b[49m\u001b[38;5;28;43mself\u001b[39;49m\u001b[38;5;241;43m.\u001b[39;49m\u001b[43mget_parent\u001b[49m\u001b[43m(\u001b[49m\u001b[38;5;124;43m\"\u001b[39;49m\u001b[38;5;124;43mshell\u001b[39;49m\u001b[38;5;124;43m\"\u001b[39;49m\u001b[43m)\u001b[49m\u001b[43m,\u001b[49m\n\u001b[0;32m   1079\u001b[0m \u001b[43m    \u001b[49m\u001b[43mpassword\u001b[49m\u001b[38;5;241;43m=\u001b[39;49m\u001b[38;5;28;43;01mFalse\u001b[39;49;00m\u001b[43m,\u001b[49m\n\u001b[0;32m   1080\u001b[0m \u001b[43m\u001b[49m\u001b[43m)\u001b[49m\n",
      "File \u001b[1;32m~\\anaconda3\\envs\\Python_JP\\lib\\site-packages\\ipykernel\\kernelbase.py:1120\u001b[0m, in \u001b[0;36mKernel._input_request\u001b[1;34m(self, prompt, ident, parent, password)\u001b[0m\n\u001b[0;32m   1117\u001b[0m             \u001b[38;5;28;01mbreak\u001b[39;00m\n\u001b[0;32m   1118\u001b[0m \u001b[38;5;28;01mexcept\u001b[39;00m \u001b[38;5;167;01mKeyboardInterrupt\u001b[39;00m:\n\u001b[0;32m   1119\u001b[0m     \u001b[38;5;66;03m# re-raise KeyboardInterrupt, to truncate traceback\u001b[39;00m\n\u001b[1;32m-> 1120\u001b[0m     \u001b[38;5;28;01mraise\u001b[39;00m \u001b[38;5;167;01mKeyboardInterrupt\u001b[39;00m(\u001b[38;5;124m\"\u001b[39m\u001b[38;5;124mInterrupted by user\u001b[39m\u001b[38;5;124m\"\u001b[39m) \u001b[38;5;28;01mfrom\u001b[39;00m \u001b[38;5;28mNone\u001b[39m\n\u001b[0;32m   1121\u001b[0m \u001b[38;5;28;01mexcept\u001b[39;00m \u001b[38;5;167;01mException\u001b[39;00m:\n\u001b[0;32m   1122\u001b[0m     \u001b[38;5;28mself\u001b[39m\u001b[38;5;241m.\u001b[39mlog\u001b[38;5;241m.\u001b[39mwarning(\u001b[38;5;124m\"\u001b[39m\u001b[38;5;124mInvalid Message:\u001b[39m\u001b[38;5;124m\"\u001b[39m, exc_info\u001b[38;5;241m=\u001b[39m\u001b[38;5;28;01mTrue\u001b[39;00m)\n",
      "\u001b[1;31mKeyboardInterrupt\u001b[0m: Interrupted by user"
     ]
    }
   ],
   "source": [
    "import re\n",
    "\n",
    "n = int(input().strip())\n",
    "\n",
    "for i in range(n):\n",
    "    cc_number = input().strip()\n",
    "    pattern = r'^[456]\\d{3}(-?)\\d{4}\\1\\d{4}\\1\\d{4}$'\n",
    "    if re.match(pattern, cc_number) and not re.search(r'(\\d)\\1{3,}', cc_number.replace(\"-\", \"\")):\n",
    "        print(\"Valid\")\n",
    "    else:\n",
    "        print(\"Invalid\")"
   ]
  },
  {
   "cell_type": "code",
   "execution_count": null,
   "id": "c2279735",
   "metadata": {},
   "outputs": [],
   "source": [
    "# Validating postal code"
   ]
  },
  {
   "cell_type": "code",
   "execution_count": null,
   "id": "42a3c8c0",
   "metadata": {},
   "outputs": [],
   "source": [
    "regex_integer_in_range = r\"_________\"\t# Do not delete 'r'.\n",
    "regex_alternating_repetitive_digit_pair = r\"_________\"\t# Do not delete 'r'.\n",
    "\n",
    "\n",
    "import re\n",
    "P = input()\n",
    "\n",
    "print (bool(re.match(regex_integer_in_range, P)) \n",
    "and len(re.findall(regex_alternating_repetitive_digit_pair, P)) < 2)"
   ]
  },
  {
   "cell_type": "code",
   "execution_count": null,
   "id": "8409b7e0",
   "metadata": {},
   "outputs": [],
   "source": [
    "# Validating matrix script\n"
   ]
  },
  {
   "cell_type": "code",
   "execution_count": null,
   "id": "2e934cc1",
   "metadata": {},
   "outputs": [],
   "source": [
    "import math\n",
    "import os\n",
    "import random\n",
    "import re\n",
    "import sys\n",
    "\n",
    "first_multiple_input = input().rstrip().split()\n",
    "\n",
    "n = int(first_multiple_input[0])\n",
    "\n",
    "m = int(first_multiple_input[1])\n",
    "\n",
    "matrix = []\n",
    "t = []\n",
    "for i in range(n):\n",
    "    matrix_item = [x for x in input()]\n",
    "    matrix.append(matrix_item)\n",
    "    \n",
    "for i in range(m):\n",
    "    for j in range(n):\n",
    "        t.append(matrix[j][i])\n",
    "\n",
    "s = ''.join(t)\n",
    "\n",
    "path = re.compile(r'\\b[ !@#$%&]+\\b', re.M)\n",
    "k = re.sub(path, ' ', s)\n",
    "print(k)"
   ]
  }
 ],
 "metadata": {
  "kernelspec": {
   "display_name": "Python 3 (ipykernel)",
   "language": "python",
   "name": "python3"
  },
  "language_info": {
   "codemirror_mode": {
    "name": "ipython",
    "version": 3
   },
   "file_extension": ".py",
   "mimetype": "text/x-python",
   "name": "python",
   "nbconvert_exporter": "python",
   "pygments_lexer": "ipython3",
   "version": "3.8.13"
  }
 },
 "nbformat": 4,
 "nbformat_minor": 5
}
