{
 "cells": [
  {
   "cell_type": "markdown",
   "id": "7284a26d",
   "metadata": {},
   "source": [
    "# 1. List Comprehensions"
   ]
  },
  {
   "cell_type": "code",
   "execution_count": 9,
   "id": "5fb6574a",
   "metadata": {},
   "outputs": [
    {
     "name": "stdout",
     "output_type": "stream",
     "text": [
      "1\n",
      "1\n",
      "1\n",
      "3\n",
      "[[0, 0, 0], [0, 0, 1], [0, 1, 0], [0, 1, 1], [1, 0, 0], [1, 0, 1], [1, 1, 0]]\n"
     ]
    }
   ],
   "source": [
    "x = int(input())\n",
    "y = int(input())\n",
    "z = int(input())\n",
    "n = int(input())\n",
    "newlist = [[i,j,k] for i in range(x+1) for j in range(y+1) for k in range(z+1)if (i+j+k) !=n]\n",
    "print(newlist)"
   ]
  },
  {
   "cell_type": "markdown",
   "id": "0149a63e",
   "metadata": {},
   "source": [
    "# 2.Find the runner up score\n"
   ]
  },
  {
   "cell_type": "code",
   "execution_count": null,
   "id": "fab282eb",
   "metadata": {},
   "outputs": [],
   "source": [
    "n = int(input())\n",
    "    arr = map(int, input().split())\n",
    "    arr2 = list(set(arr))\n",
    "    arr2.sort()\n",
    "    print(arr2[-2])"
   ]
  },
  {
   "cell_type": "markdown",
   "id": "46a66a0d",
   "metadata": {},
   "source": [
    "# 3. Nested Lists"
   ]
  },
  {
   "cell_type": "code",
   "execution_count": null,
   "id": "e52cfd8e",
   "metadata": {},
   "outputs": [],
   "source": [
    "for _ in range(int(input())):\n",
    "        name = input()\n",
    "        score = float(input())\n",
    "        if __name__ == '__main__':\n",
    "        li = []    \n",
    "        li.append([name,score])\n",
    "scr = [x[1] for x in li]\n",
    "min_li = sorted(set(scr))\n",
    "stud = sorted([y[0] for y in li if y[1]==min_li[1]])\n",
    "[print(k) for k in stud]"
   ]
  },
  {
   "cell_type": "markdown",
   "id": "8d2cebb3",
   "metadata": {},
   "source": [
    "# 4. percentage"
   ]
  },
  {
   "cell_type": "code",
   "execution_count": 26,
   "id": "9d9c7cf1",
   "metadata": {},
   "outputs": [
    {
     "name": "stdout",
     "output_type": "stream",
     "text": [
      "3\n",
      "jo 20 5 5\n",
      "tan 50 50 50\n",
      "vi 40 80 20\n",
      "jo\n",
      "10.00\n"
     ]
    }
   ],
   "source": [
    "n = int(input())\n",
    "x = [input().split() for i in range(n)]\n",
    "c = input()\n",
    "d = {}\n",
    "for i in range(n):\n",
    "    d[x[i][0]] = list(map(float,x[i][1:]))\n",
    "print(f'{sum(d[c])/len(d[c]):.2f}')     "
   ]
  },
  {
   "cell_type": "markdown",
   "id": "2b4878fe",
   "metadata": {},
   "source": [
    "# 5 Lists"
   ]
  },
  {
   "cell_type": "code",
   "execution_count": null,
   "id": "4268529e",
   "metadata": {},
   "outputs": [],
   "source": [
    "N = int(input())\n",
    "l=[]    \n",
    "for i in range(N):\n",
    "        s = list(input().split())\n",
    "        if s[0]=='insert':\n",
    "            l.insert(int(s[1]),int(s[2]))\n",
    "        if s[0]=='remove':\n",
    "            l.remove(int(s[1]))\n",
    "        if s[0]=='append':\n",
    "            l.append(int(s[1]))\n",
    "        if s[0]=='sort':\n",
    "            l.sort()\n",
    "        if s[0]=='pop':\n",
    "            l.pop()\n",
    "        if s[0]=='reverse':\n",
    "            l.reverse()     \n",
    "        if s[0]=='print':\n",
    "            print(l)"
   ]
  },
  {
   "cell_type": "markdown",
   "id": "92caa6a9",
   "metadata": {},
   "source": [
    "# 6 Tuples"
   ]
  },
  {
   "cell_type": "code",
   "execution_count": 39,
   "id": "6238ebf1",
   "metadata": {},
   "outputs": [
    {
     "name": "stdout",
     "output_type": "stream",
     "text": [
      "2\n",
      "1 2\n",
      "-3550055125485641917\n"
     ]
    }
   ],
   "source": [
    "n = int(input().strip())\n",
    "t = tuple(int(i) for i in input().strip().split())\n",
    "\n",
    "print(hash(t))"
   ]
  },
  {
   "cell_type": "markdown",
   "id": "f39093af",
   "metadata": {},
   "source": [
    "# 7 Sets\n"
   ]
  },
  {
   "cell_type": "code",
   "execution_count": 40,
   "id": "b531f173",
   "metadata": {},
   "outputs": [
    {
     "name": "stdout",
     "output_type": "stream",
     "text": [
      "169.375\n",
      "168.6\n"
     ]
    }
   ],
   "source": [
    "array = [161, 182, 161, 154, 176, 170, 167, 171, 170, 174]\n",
    "n = .000\n",
    "\n",
    "joker = set(array)\n",
    "n = sum(joker)/len(joker)\n",
    "print (n)\n",
    "\n",
    "n = sum(array)/len(array)\n",
    "print (n)"
   ]
  },
  {
   "cell_type": "markdown",
   "id": "015cc4a0",
   "metadata": {},
   "source": [
    "# 8 No Idea\n"
   ]
  },
  {
   "cell_type": "code",
   "execution_count": 42,
   "id": "3804bf9f",
   "metadata": {},
   "outputs": [
    {
     "name": "stdout",
     "output_type": "stream",
     "text": [
      "3\n",
      "4\n",
      "5\n",
      "6\n",
      "0\n"
     ]
    }
   ],
   "source": [
    "# taking input from the user\n",
    "a=input().split(' ')\n",
    "l=([int(i) for i in input().split(' ')])\n",
    "\n",
    "# converting to set\n",
    "firstset=set([int(i) for i in input().split(' ')])\n",
    "secondset=set([int(i) for i in input().split(' ')])\n",
    "\n",
    "# initalizing with zero\n",
    "p=0\n",
    "\n",
    "# using for loop with if statements \n",
    "for i in l:\n",
    "    if i in firstset:\n",
    "        p+=1\n",
    "    if i in secondset:\n",
    "        p-=1\n",
    "        \n",
    "# printing\n",
    "print(p)\n"
   ]
  },
  {
   "cell_type": "markdown",
   "id": "dec76cac",
   "metadata": {},
   "source": [
    "# 9 Symmetric difference\n"
   ]
  },
  {
   "cell_type": "code",
   "execution_count": 43,
   "id": "c2602443",
   "metadata": {},
   "outputs": [
    {
     "name": "stdout",
     "output_type": "stream",
     "text": [
      "2\n",
      "8 -10\n",
      "3\n",
      "5 6 7\n",
      "-10\n",
      "5\n",
      "6\n",
      "7\n",
      "8\n"
     ]
    }
   ],
   "source": [
    "input()\n",
    "set1 = set(map(int, input().split()))\n",
    "input()\n",
    "set2 = set(map(int, input().split()))\n",
    "diff = list((set1 | set2) - (set1 & set2))\n",
    "diff.sort()\n",
    "diff = map(str,diff)\n",
    "print(\"\\n\".join(diff))"
   ]
  },
  {
   "cell_type": "markdown",
   "id": "8c6014fe",
   "metadata": {},
   "source": [
    "# 10 set add"
   ]
  },
  {
   "cell_type": "code",
   "execution_count": 46,
   "id": "b0f9f52a",
   "metadata": {},
   "outputs": [
    {
     "name": "stdout",
     "output_type": "stream",
     "text": [
      "5\n",
      "uk\n",
      "usa\n",
      "india\n",
      "japan\n",
      "china\n",
      "5\n"
     ]
    }
   ],
   "source": [
    "num=input()\n",
    "listt=[]\n",
    "for i in range(0,int(num)):\n",
    "    j=input()\n",
    "    listt.append(j)\n",
    "dist=set(listt)\n",
    "print(len(dist))"
   ]
  },
  {
   "cell_type": "markdown",
   "id": "931abec4",
   "metadata": {},
   "source": [
    "# 11 set.discard() pop() remove()"
   ]
  },
  {
   "cell_type": "code",
   "execution_count": null,
   "id": "9cfa264b",
   "metadata": {},
   "outputs": [],
   "source": [
    "num = int(input())\n",
    "data = set(map(int, input().split()))\n",
    "operations = int(input())\n",
    "\n",
    "for x in range(operations):\n",
    "  oper = input().split()\n",
    "  if oper[0] == \"remove\":\n",
    "    data.remove(int(oper[1]))\n",
    "  elif oper[0] == \"discard\":\n",
    "    data.discard(int(oper[1]))\n",
    "  else:\n",
    "    data.pop()\n",
    "    \n",
    "print(sum(data))"
   ]
  },
  {
   "cell_type": "markdown",
   "id": "7e12e708",
   "metadata": {},
   "source": [
    "# 12 set.Union"
   ]
  },
  {
   "cell_type": "code",
   "execution_count": null,
   "id": "bb17db7a",
   "metadata": {},
   "outputs": [],
   "source": [
    "m = int(input())\n",
    "a = set(map(int,input().split()))\n",
    "n = int(input())\n",
    "b = set(map(int,input().split()))\n",
    "print(len(a.union(b)))"
   ]
  },
  {
   "cell_type": "markdown",
   "id": "a7f3bcf5",
   "metadata": {},
   "source": [
    "# 13 Set Intersection"
   ]
  },
  {
   "cell_type": "code",
   "execution_count": null,
   "id": "6c3139ea",
   "metadata": {},
   "outputs": [],
   "source": [
    "n1=int(input())\n",
    "set1=set(map(int,input().split()))\n",
    "n2=int(input())\n",
    "set2=set(map(int,input().split()))\n",
    "print(len(set1.intersection(set2)))"
   ]
  },
  {
   "cell_type": "markdown",
   "id": "375aa764",
   "metadata": {},
   "source": [
    "# 14 Set.difference"
   ]
  },
  {
   "cell_type": "code",
   "execution_count": null,
   "id": "8ab390ec",
   "metadata": {},
   "outputs": [],
   "source": [
    "input()\n",
    "a = set(map(int, input().split()))\n",
    "input()\n",
    "b = set(map(int, input().split()))\n",
    "print(len(a-b))"
   ]
  },
  {
   "cell_type": "markdown",
   "id": "df863986",
   "metadata": {},
   "source": [
    "# 15 Set symmetric difference"
   ]
  },
  {
   "cell_type": "code",
   "execution_count": null,
   "id": "05e33de3",
   "metadata": {},
   "outputs": [],
   "source": [
    "input()\n",
    "a = set(map(int, input().split()))\n",
    "input()\n",
    "b = set(map(int, input().split()))\n",
    "print(len(a.symmetric_difference(b)))"
   ]
  },
  {
   "cell_type": "markdown",
   "id": "d7537987",
   "metadata": {},
   "source": [
    "# 16 Set mutations"
   ]
  },
  {
   "cell_type": "code",
   "execution_count": null,
   "id": "7952b84f",
   "metadata": {},
   "outputs": [],
   "source": [
    "n = int(input())\n",
    "A = set(map(int, input().split()))\n",
    "N = int(input())\n",
    "operations = []\n",
    "for i in range(N):\n",
    "    op, dummy = input().split()\n",
    "    numbers = set(map(int, input().split()))\n",
    "    operations.append((op, numbers))\n",
    "for op, numbers in operations:\n",
    "    if(op == 'intersection_update'):\n",
    "        A &= numbers\n",
    "    if(op == 'symmetric_difference_update'):\n",
    "        A ^= numbers\n",
    "    if(op == 'difference_update'):\n",
    "        A -= numbers\n",
    "    if(op == 'update'):\n",
    "        A |= numbers\n",
    "print(sum(A))"
   ]
  },
  {
   "cell_type": "markdown",
   "id": "521d34de",
   "metadata": {},
   "source": [
    "# 17 Captains room"
   ]
  },
  {
   "cell_type": "code",
   "execution_count": null,
   "id": "827d9208",
   "metadata": {},
   "outputs": [],
   "source": [
    "dist ={}\n",
    "k = int(input())\n",
    "list_of_members = [int(i) for i in input().split()]\n",
    "for i in (list_of_members):\n",
    "    if i in (dist.keys()):\n",
    "        dist[i] +=1\n",
    "    else:\n",
    "        dist[i] = 1\n",
    "dist_keys = list(dist.keys())\n",
    "for i in dist_keys:\n",
    "    if dist[i]==1:\n",
    "        print(i)"
   ]
  },
  {
   "cell_type": "markdown",
   "id": "dc355deb",
   "metadata": {},
   "source": [
    "# 18 check subset"
   ]
  },
  {
   "cell_type": "code",
   "execution_count": null,
   "id": "539cfd55",
   "metadata": {},
   "outputs": [],
   "source": [
    "n = int(input())\n",
    "\n",
    "for _ in range(n):\n",
    "    a1 = int(input())\n",
    "    s1 = set(map(int,input().split()))\n",
    "    b1 = int(input())\n",
    "    s2 = set(map(int, input().split()))\n",
    "    \n",
    "    print(s1.issubset(s2))"
   ]
  },
  {
   "cell_type": "markdown",
   "id": "d6889c9a",
   "metadata": {},
   "source": [
    "# 19 Check Strict superset"
   ]
  },
  {
   "cell_type": "code",
   "execution_count": null,
   "id": "124f3f58",
   "metadata": {},
   "outputs": [],
   "source": [
    "A = set(input().split())\n",
    "sup = True\n",
    "for _ in range(int(input())):\n",
    "    B = set(input().split())\n",
    "    if not (A > B):\n",
    "        sup = False\n",
    "        break\n",
    "print (sup)"
   ]
  }
 ],
 "metadata": {
  "kernelspec": {
   "display_name": "Python 3 (ipykernel)",
   "language": "python",
   "name": "python3"
  },
  "language_info": {
   "codemirror_mode": {
    "name": "ipython",
    "version": 3
   },
   "file_extension": ".py",
   "mimetype": "text/x-python",
   "name": "python",
   "nbconvert_exporter": "python",
   "pygments_lexer": "ipython3",
   "version": "3.8.13"
  }
 },
 "nbformat": 4,
 "nbformat_minor": 5
}
