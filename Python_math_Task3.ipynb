{
 "cells": [
  {
   "cell_type": "markdown",
   "id": "1a2d3b76",
   "metadata": {},
   "source": [
    "# 1.Polar Coordinates"
   ]
  },
  {
   "cell_type": "code",
   "execution_count": 2,
   "id": "c66bab3f",
   "metadata": {},
   "outputs": [
    {
     "name": "stdout",
     "output_type": "stream",
     "text": [
      "1\n",
      "1.0\n",
      "0.0\n"
     ]
    }
   ],
   "source": [
    "import cmath\n",
    "\n",
    "z = complex(input())\n",
    "print(abs(z))\n",
    "print(cmath.phase(z))"
   ]
  },
  {
   "cell_type": "markdown",
   "id": "95ebac51",
   "metadata": {},
   "source": [
    "# 2 Finding the angle of traingle"
   ]
  },
  {
   "cell_type": "code",
   "execution_count": 4,
   "id": "9e3b6fe9",
   "metadata": {},
   "outputs": [
    {
     "name": "stdout",
     "output_type": "stream",
     "text": [
      "10\n",
      "10\n",
      "45°\n"
     ]
    }
   ],
   "source": [
    "# importing the module\n",
    "import math\n",
    "\n",
    "# taking the input from user\n",
    "ab = float(input())\n",
    "bc = float(input())\n",
    "\n",
    "# finding the distance \n",
    "ac = math.sqrt((ab*ab)+(bc*bc))\n",
    "bm = ac / 2.0\n",
    "mc = bm\n",
    "\n",
    "# equalizing the sides \n",
    "b = mc\n",
    "c = bm\n",
    "a = bc\n",
    "\n",
    "# where b=c\n",
    "# finding the angle in radian\n",
    "angel_b_radian = math.acos(a / (2*b))\n",
    "\n",
    "# converting the radian to degree\n",
    "angel_b_degree = int(round((180 * angel_b_radian) / math.pi))\n",
    "\n",
    "# printing with degree\n",
    "print(angel_b_degree,'\\u00B0',sep='')"
   ]
  },
  {
   "cell_type": "markdown",
   "id": "7242b4db",
   "metadata": {},
   "source": [
    "# 3 Traingle Quest2"
   ]
  },
  {
   "cell_type": "code",
   "execution_count": 6,
   "id": "863f2601",
   "metadata": {},
   "outputs": [
    {
     "name": "stdout",
     "output_type": "stream",
     "text": [
      "8\n",
      "1\n",
      "121\n",
      "12321\n",
      "1234321\n",
      "123454321\n",
      "12345654321\n",
      "1234567654321\n",
      "123456787654321\n"
     ]
    }
   ],
   "source": [
    "for i in range(1, int(input()) + 1):   \n",
    " print((10 ** i - 1) ** 2 // 81)"
   ]
  },
  {
   "cell_type": "markdown",
   "id": "e0404676",
   "metadata": {},
   "source": [
    "# 4 Traingle Quest"
   ]
  },
  {
   "cell_type": "code",
   "execution_count": 8,
   "id": "817d6460",
   "metadata": {},
   "outputs": [
    {
     "name": "stdout",
     "output_type": "stream",
     "text": [
      "4\n",
      "1\n",
      "22\n",
      "333\n"
     ]
    }
   ],
   "source": [
    "# for loop which takes input value from user\n",
    "for i in range(1,int(input())):\n",
    "    \n",
    "    # printing the required output\n",
    "    print(i*((10**i-1)//9))"
   ]
  },
  {
   "cell_type": "markdown",
   "id": "9912e061",
   "metadata": {},
   "source": [
    "# 5 Print Divmod"
   ]
  },
  {
   "cell_type": "code",
   "execution_count": null,
   "id": "71548165",
   "metadata": {},
   "outputs": [],
   "source": [
    "a = int(input())\n",
    "b = int(input())\n",
    "\n",
    "print(a // b)\n",
    "print(a % b)\n",
    "print (divmod(a, b))"
   ]
  },
  {
   "cell_type": "markdown",
   "id": "adbf273a",
   "metadata": {},
   "source": [
    "# 6 Print Powermod"
   ]
  },
  {
   "cell_type": "code",
   "execution_count": null,
   "id": "97badcb0",
   "metadata": {},
   "outputs": [],
   "source": [
    "a=int(input())\n",
    "b=int(input())\n",
    "m=int(input())\n",
    "print(pow(a,b))\n",
    "print(pow(a,b,m))"
   ]
  },
  {
   "cell_type": "markdown",
   "id": "349289bd",
   "metadata": {},
   "source": [
    "# 7 Integers comes in all sizes"
   ]
  },
  {
   "cell_type": "code",
   "execution_count": null,
   "id": "3f4cf841",
   "metadata": {},
   "outputs": [],
   "source": [
    "a=int(input())\n",
    "b=int(input())\n",
    "c=int(input())\n",
    "d=int(input())\n",
    "print(pow(a,b)+pow(c,d))"
   ]
  }
 ],
 "metadata": {
  "kernelspec": {
   "display_name": "Python 3 (ipykernel)",
   "language": "python",
   "name": "python3"
  },
  "language_info": {
   "codemirror_mode": {
    "name": "ipython",
    "version": 3
   },
   "file_extension": ".py",
   "mimetype": "text/x-python",
   "name": "python",
   "nbconvert_exporter": "python",
   "pygments_lexer": "ipython3",
   "version": "3.8.13"
  }
 },
 "nbformat": 4,
 "nbformat_minor": 5
}
