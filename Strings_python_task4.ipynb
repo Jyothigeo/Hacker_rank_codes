{
 "cells": [
  {
   "cell_type": "markdown",
   "id": "b59ccf2a",
   "metadata": {},
   "source": [
    "# 1.Swap case"
   ]
  },
  {
   "cell_type": "code",
   "execution_count": 45,
   "id": "ded32f90",
   "metadata": {
    "scrolled": true
   },
   "outputs": [
    {
     "name": "stdout",
     "output_type": "stream",
     "text": [
      "Jyothi\n",
      "jYOTHI\n"
     ]
    }
   ],
   "source": [
    "def swap_case(s):\n",
    "    return s.swapcase()\n",
    "if __name__ == '__main__':\n",
    "    s = input()\n",
    "    result = swap_case(s)\n",
    "    print(result)"
   ]
  },
  {
   "cell_type": "code",
   "execution_count": 48,
   "id": "67d1f3d1",
   "metadata": {},
   "outputs": [
    {
     "name": "stdout",
     "output_type": "stream",
     "text": [
      "Five\n",
      "fIVE\n"
     ]
    }
   ],
   "source": [
    "s = input()\n",
    "a = swap_case(s)\n",
    "print(a)"
   ]
  },
  {
   "cell_type": "markdown",
   "id": "cc2b0ac9",
   "metadata": {},
   "source": [
    "# 2.Split and Join"
   ]
  },
  {
   "cell_type": "code",
   "execution_count": 40,
   "id": "4cb3f6f7",
   "metadata": {},
   "outputs": [
    {
     "name": "stdout",
     "output_type": "stream",
     "text": [
      "['this', 'is', 'a', 'string']\n",
      "this-is-a-string\n"
     ]
    }
   ],
   "source": [
    "a = \"this is a string\"\n",
    "a = a.split(\" \") # a is converted to a list of strings. \n",
    "print(a)\n",
    "b=\"-\".join(a)\n",
    "print(b)"
   ]
  },
  {
   "cell_type": "markdown",
   "id": "326533e8",
   "metadata": {},
   "source": [
    "# 3.Whats your name"
   ]
  },
  {
   "cell_type": "code",
   "execution_count": 37,
   "id": "140f01ff",
   "metadata": {},
   "outputs": [
    {
     "name": "stdout",
     "output_type": "stream",
     "text": [
      "jo\n",
      "prat\n",
      "Hello jo prat! You just delved into python.\n",
      "None\n"
     ]
    }
   ],
   "source": [
    "def print_full_name(first, last):\n",
    "     print(\"Hello\" + \" \"+str(first) + \" \"+str(last)+\"!\" +\" \"+\"You just delved into python.\")    \n",
    "first=input()\n",
    "last=input()\n",
    "a=print_full_name(first,last)\n",
    "print(a)"
   ]
  },
  {
   "cell_type": "markdown",
   "id": "3b0c143f",
   "metadata": {},
   "source": [
    "# 4 Mutations\n"
   ]
  },
  {
   "cell_type": "code",
   "execution_count": 58,
   "id": "ea70f93e",
   "metadata": {},
   "outputs": [
    {
     "name": "stdout",
     "output_type": "stream",
     "text": [
      "f\n",
      "abcdekg\n"
     ]
    }
   ],
   "source": [
    "string = \"abcdefg\"\n",
    "print(string[5])\n",
    "l=list(string)\n",
    "l[5]=\"k\"\n",
    "string=''.join(l)\n",
    "print(string)"
   ]
  },
  {
   "cell_type": "code",
   "execution_count": 62,
   "id": "5e6253ec",
   "metadata": {},
   "outputs": [
    {
     "name": "stdout",
     "output_type": "stream",
     "text": [
      "abcde\n",
      "3 k\n",
      "abcke\n"
     ]
    }
   ],
   "source": [
    "def mutate_string(string, position, character):\n",
    "    return string[:position]+character+string[position+1:]\n",
    "\n",
    "if __name__ == '__main__':\n",
    "    s = input()\n",
    "    i, c = input().split()\n",
    "    s_new = mutate_string(s, int(i), c)\n",
    "    print(s_new)"
   ]
  },
  {
   "cell_type": "markdown",
   "id": "01c0db2e",
   "metadata": {},
   "source": [
    "# 5 Find a string"
   ]
  },
  {
   "cell_type": "code",
   "execution_count": 66,
   "id": "7d41f7c9",
   "metadata": {},
   "outputs": [
    {
     "name": "stdout",
     "output_type": "stream",
     "text": [
      "strongstrr\n",
      "s\n",
      "t\n",
      "r\n",
      "o\n",
      "n\n",
      "g\n",
      "s\n",
      "t\n",
      "r\n",
      "r\n"
     ]
    }
   ],
   "source": [
    "s=input()\n",
    "for i in range(0 ,len(s)):\n",
    "    print(s[i])"
   ]
  },
  {
   "cell_type": "code",
   "execution_count": 67,
   "id": "3de5ed46",
   "metadata": {},
   "outputs": [
    {
     "name": "stdout",
     "output_type": "stream",
     "text": [
      "strongstrongstr\n",
      "str\n",
      "3\n"
     ]
    }
   ],
   "source": [
    "def count_substring(string, sub_string):\n",
    "    counting = 0\n",
    "    while sub_string in string:\n",
    "        a=string.find(sub_string)\n",
    "        string=string[a+1:]\n",
    "        counting += 1\n",
    "    return counting\n",
    "\n",
    "    \n",
    "if __name__ == '__main__':\n",
    "    string = input().strip()\n",
    "    sub_string = input().strip()\n",
    "    \n",
    "    count = count_substring(string, sub_string)\n",
    "    print(count)"
   ]
  },
  {
   "cell_type": "markdown",
   "id": "f998c0ae",
   "metadata": {},
   "source": [
    "# 6 String validators"
   ]
  },
  {
   "cell_type": "code",
   "execution_count": 69,
   "id": "8e4ae1fb",
   "metadata": {},
   "outputs": [
    {
     "name": "stdout",
     "output_type": "stream",
     "text": [
      "jyothi520!@#\n",
      "True\n",
      "True\n",
      "True\n",
      "True\n",
      "False\n"
     ]
    }
   ],
   "source": [
    "s = input()\n",
    "print(any(i.isalnum() for i in s))\n",
    "print(any(i.isalpha() for i in s))\n",
    "print(any(i.isdigit() for i in s))\n",
    "print(any(i.islower() for i in s))\n",
    "print(any(i.isupper() for i in s))"
   ]
  },
  {
   "cell_type": "markdown",
   "id": "8c909d1c",
   "metadata": {},
   "source": [
    "# 7 Text alignment"
   ]
  },
  {
   "cell_type": "code",
   "execution_count": 76,
   "id": "1015c546",
   "metadata": {},
   "outputs": [
    {
     "name": "stdout",
     "output_type": "stream",
     "text": [
      "HackerRank------------------------------\n"
     ]
    }
   ],
   "source": [
    " width = 40\n",
    "print ('HackerRank'.ljust(width,'-'))\n",
    "\n"
   ]
  },
  {
   "cell_type": "code",
   "execution_count": 77,
   "id": "f99adc81",
   "metadata": {},
   "outputs": [
    {
     "name": "stdout",
     "output_type": "stream",
     "text": [
      "20\n"
     ]
    },
    {
     "ename": "AttributeError",
     "evalue": "'str' object has no attribute '______'",
     "output_type": "error",
     "traceback": [
      "\u001b[1;31m---------------------------------------------------------------------------\u001b[0m",
      "\u001b[1;31mAttributeError\u001b[0m                            Traceback (most recent call last)",
      "Input \u001b[1;32mIn [77]\u001b[0m, in \u001b[0;36m<cell line: 7>\u001b[1;34m()\u001b[0m\n\u001b[0;32m      6\u001b[0m \u001b[38;5;66;03m#Top Cone\u001b[39;00m\n\u001b[0;32m      7\u001b[0m \u001b[38;5;28;01mfor\u001b[39;00m i \u001b[38;5;129;01min\u001b[39;00m \u001b[38;5;28mrange\u001b[39m(thickness):\n\u001b[1;32m----> 8\u001b[0m     \u001b[38;5;28mprint\u001b[39m(\u001b[43m(\u001b[49m\u001b[43mc\u001b[49m\u001b[38;5;241;43m*\u001b[39;49m\u001b[43mi\u001b[49m\u001b[43m)\u001b[49m\u001b[38;5;241;43m.\u001b[39;49m\u001b[43m______\u001b[49m(thickness\u001b[38;5;241m-\u001b[39m\u001b[38;5;241m1\u001b[39m)\u001b[38;5;241m+\u001b[39mc\u001b[38;5;241m+\u001b[39m(c\u001b[38;5;241m*\u001b[39mi)\u001b[38;5;241m.\u001b[39m______(thickness\u001b[38;5;241m-\u001b[39m\u001b[38;5;241m1\u001b[39m))\n\u001b[0;32m     10\u001b[0m \u001b[38;5;66;03m#Top Pillars\u001b[39;00m\n\u001b[0;32m     11\u001b[0m \u001b[38;5;28;01mfor\u001b[39;00m i \u001b[38;5;129;01min\u001b[39;00m \u001b[38;5;28mrange\u001b[39m(thickness\u001b[38;5;241m+\u001b[39m\u001b[38;5;241m1\u001b[39m):\n",
      "\u001b[1;31mAttributeError\u001b[0m: 'str' object has no attribute '______'"
     ]
    }
   ],
   "source": [
    "#Replace all ______ with rjust, ljust or center. \n",
    "\n",
    "thickness = int(input()) #This must be an odd number\n",
    "c = 'H'\n",
    "\n",
    "#Top Cone\n",
    "for i in range(thickness):\n",
    "    print((c*i).______(thickness-1)+c+(c*i).______(thickness-1))\n",
    "\n",
    "#Top Pillars\n",
    "for i in range(thickness+1):\n",
    "    print((c*thickness).______(thickness*2)+(c*thickness).______(thickness*6))\n",
    "\n",
    "#Middle Belt\n",
    "for i in range((thickness+1)//2):\n",
    "    print((c*thickness*5).______(thickness*6))    \n",
    "\n",
    "#Bottom Pillars\n",
    "for i in range(thickness+1):\n",
    "    print((c*thickness).______(thickness*2)+(c*thickness).______(thickness*6))    \n",
    "\n",
    "#Bottom Cone\n",
    "for i in range(thickness):\n",
    "    print(((c*(thickness-i-1)).______(thickness)+c+(c*(thickness-i-1)).______(thickness)).______(thickness*6))"
   ]
  },
  {
   "cell_type": "markdown",
   "id": "693b24ff",
   "metadata": {},
   "source": [
    "# Text Wrap"
   ]
  },
  {
   "cell_type": "code",
   "execution_count": null,
   "id": "523c9c6a",
   "metadata": {},
   "outputs": [],
   "source": [
    "import textwrap\n",
    "\n",
    "def wrap(string, max_width):\n",
    "    wrapresult = textwrap.fill(string,max_width)\n",
    "    return wrapresult\n",
    "if __name__ == '__main__':\n",
    "    string, max_width = input(), int(input())\n",
    "    result = wrap(string, max_width)\n",
    "    print(result)"
   ]
  },
  {
   "cell_type": "markdown",
   "id": "b56c5021",
   "metadata": {},
   "source": [
    "# Merge the Tools"
   ]
  },
  {
   "cell_type": "code",
   "execution_count": null,
   "id": "48f9aa8c",
   "metadata": {},
   "outputs": [],
   "source": [
    "def merge_the_tools(string, k):   \n",
    "\n",
    "    l = len(string)//k\n",
    "    for i in range(l):\n",
    "        print(''.join(dict.fromkeys(string[i*k:(i*k)+k])))\n",
    "if __name__ == '__main__':\n",
    "    string, k = input(), int(input())\n",
    "    merge_the_tools(string, k)"
   ]
  },
  {
   "cell_type": "markdown",
   "id": "e72bfbe8",
   "metadata": {},
   "source": [
    "# Minion game"
   ]
  },
  {
   "cell_type": "code",
   "execution_count": null,
   "id": "ae7e6701",
   "metadata": {},
   "outputs": [],
   "source": [
    "def minion_game(string):\n",
    "    vowel = \"AEIOU\"\n",
    "    sc = 0\n",
    "    kc = 0\n",
    "    x = len(string)\n",
    "    for i in range(x):\n",
    "        if string[i] in vowel:\n",
    "            kc += x - i\n",
    "        else:\n",
    "            sc += x - i\n",
    "    if sc > kc:\n",
    "        print(\"Stuart\", str(sc))\n",
    "    elif kc > sc:\n",
    "        print(\"Kevin\", str(kc))\n",
    "    else:\n",
    "        print(\"Draw\")\n",
    "if __name__ == '__main__':\n",
    "    s = input()\n",
    "    minion_game(s)"
   ]
  },
  {
   "cell_type": "markdown",
   "id": "ecafac9c",
   "metadata": {},
   "source": [
    "# String formatting"
   ]
  },
  {
   "cell_type": "code",
   "execution_count": null,
   "id": "174d4e82",
   "metadata": {},
   "outputs": [],
   "source": [
    "def print_formatted(number):\n",
    "    nbin = format(number,'b')\n",
    "    size = len(nbin)\n",
    "    for i in range(1,n+1):\n",
    "        octa = format(i,'o')\n",
    "        hexa = format(i,'X')\n",
    "        bina = format(i,'b')\n",
    "        \n",
    "        print(str(i).rjust(size),str(octa).rjust(size),str(hexa).rjust(size),str(bina).rjust(size))\n",
    "   \n",
    "if __name__ == '__main__':\n",
    "    n = int(input())\n",
    "    print_formatted(n)"
   ]
  },
  {
   "cell_type": "markdown",
   "id": "283bf3e1",
   "metadata": {},
   "source": [
    "# Indian Rangoli"
   ]
  },
  {
   "cell_type": "code",
   "execution_count": null,
   "id": "04de8490",
   "metadata": {},
   "outputs": [],
   "source": [
    "def print_rangoli(size: int):\n",
    "    pattern = '-'.join(chr(ch) for ch in reversed(range(ord('a'), ord('a') + size)))\n",
    "    layers = []\n",
    "    for limit in range(1, size * 2, 2):\n",
    "        layer = f'{pattern[:limit]}{pattern[:limit - 1][::-1]}'\n",
    "        layers.append(f'{layer:-^{size * 4 - 3}}')\n",
    "        print(layers[-1])\n",
    "    print('\\n'.join(reversed(layers[:-1])))\n",
    "\n",
    "if __name__ == '__main__':\n",
    "    n = int(input())\n",
    "    print_rangoli(n)"
   ]
  },
  {
   "cell_type": "markdown",
   "id": "13608f64",
   "metadata": {},
   "source": [
    "# Capitalize"
   ]
  },
  {
   "cell_type": "code",
   "execution_count": null,
   "id": "a8cd6a1a",
   "metadata": {},
   "outputs": [],
   "source": [
    "import math\n",
    "import os\n",
    "import random\n",
    "import re\n",
    "import sys\n",
    "\n",
    "def solve(s):\n",
    "    return \" \".join([name.capitalize() for name in s.split(\" \")])\n",
    "\n",
    "if __name__ == '__main__':\n",
    "    fptr = open(os.environ['OUTPUT_PATH'], 'w')\n",
    "\n",
    "    s = input()\n",
    "\n",
    "    result = solve(s)\n",
    "\n",
    "    fptr.write(result + '\\n')\n",
    "\n",
    "    fptr.close()\n"
   ]
  },
  {
   "cell_type": "code",
   "execution_count": null,
   "id": "85da4dd6",
   "metadata": {},
   "outputs": [],
   "source": []
  }
 ],
 "metadata": {
  "kernelspec": {
   "display_name": "Python 3 (ipykernel)",
   "language": "python",
   "name": "python3"
  },
  "language_info": {
   "codemirror_mode": {
    "name": "ipython",
    "version": 3
   },
   "file_extension": ".py",
   "mimetype": "text/x-python",
   "name": "python",
   "nbconvert_exporter": "python",
   "pygments_lexer": "ipython3",
   "version": "3.8.13"
  }
 },
 "nbformat": 4,
 "nbformat_minor": 5
}
